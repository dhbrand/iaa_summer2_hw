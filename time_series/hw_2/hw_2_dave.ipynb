{
 "cells": [
  {
   "cell_type": "code",
   "execution_count": 1,
   "metadata": {},
   "outputs": [],
   "source": [
    "import pandas as pd"
   ]
  },
  {
   "cell_type": "markdown",
   "metadata": {},
   "source": [
    "Checking the excel file for sheet names"
   ]
  },
  {
   "cell_type": "code",
   "execution_count": 5,
   "metadata": {},
   "outputs": [
    {
     "name": "stdout",
     "output_type": "stream",
     "text": [
      "['Rain', 'Tide', 'Well']\n"
     ]
    }
   ],
   "source": [
    "file = 'F-179.xlsx'\n",
    "\n",
    "xl = pd.ExcelFile(file)\n",
    "\n",
    "print(xl.sheet_names)"
   ]
  },
  {
   "cell_type": "code",
   "execution_count": null,
   "metadata": {},
   "outputs": [],
   "source": []
  },
  {
   "cell_type": "code",
   "execution_count": 6,
   "metadata": {},
   "outputs": [
    {
     "data": {
      "text/html": [
       "<div>\n",
       "<style scoped>\n",
       "    .dataframe tbody tr th:only-of-type {\n",
       "        vertical-align: middle;\n",
       "    }\n",
       "\n",
       "    .dataframe tbody tr th {\n",
       "        vertical-align: top;\n",
       "    }\n",
       "\n",
       "    .dataframe thead th {\n",
       "        text-align: right;\n",
       "    }\n",
       "</style>\n",
       "<table border=\"1\" class=\"dataframe\">\n",
       "  <thead>\n",
       "    <tr style=\"text-align: right;\">\n",
       "      <th></th>\n",
       "      <th>date</th>\n",
       "      <th>time</th>\n",
       "      <th>tz_cd</th>\n",
       "      <th>Well_ft</th>\n",
       "      <th>Code</th>\n",
       "      <th>Corrected</th>\n",
       "    </tr>\n",
       "  </thead>\n",
       "  <tbody>\n",
       "    <tr>\n",
       "      <th>0</th>\n",
       "      <td>2007-10-01</td>\n",
       "      <td>01:00:00</td>\n",
       "      <td>EDT</td>\n",
       "      <td>3.17</td>\n",
       "      <td>A</td>\n",
       "      <td>1.621</td>\n",
       "    </tr>\n",
       "    <tr>\n",
       "      <th>1</th>\n",
       "      <td>2007-10-01</td>\n",
       "      <td>01:15:00</td>\n",
       "      <td>EDT</td>\n",
       "      <td>3.18</td>\n",
       "      <td>A</td>\n",
       "      <td>1.631</td>\n",
       "    </tr>\n",
       "    <tr>\n",
       "      <th>2</th>\n",
       "      <td>2007-10-01</td>\n",
       "      <td>01:30:00</td>\n",
       "      <td>EDT</td>\n",
       "      <td>3.18</td>\n",
       "      <td>A</td>\n",
       "      <td>1.631</td>\n",
       "    </tr>\n",
       "    <tr>\n",
       "      <th>3</th>\n",
       "      <td>2007-10-01</td>\n",
       "      <td>01:45:00</td>\n",
       "      <td>EDT</td>\n",
       "      <td>3.18</td>\n",
       "      <td>A</td>\n",
       "      <td>1.631</td>\n",
       "    </tr>\n",
       "    <tr>\n",
       "      <th>4</th>\n",
       "      <td>2007-10-01</td>\n",
       "      <td>02:00:00</td>\n",
       "      <td>EDT</td>\n",
       "      <td>3.18</td>\n",
       "      <td>A</td>\n",
       "      <td>1.631</td>\n",
       "    </tr>\n",
       "  </tbody>\n",
       "</table>\n",
       "</div>"
      ],
      "text/plain": [
       "        date      time tz_cd  Well_ft Code  Corrected\n",
       "0 2007-10-01  01:00:00   EDT     3.17    A      1.621\n",
       "1 2007-10-01  01:15:00   EDT     3.18    A      1.631\n",
       "2 2007-10-01  01:30:00   EDT     3.18    A      1.631\n",
       "3 2007-10-01  01:45:00   EDT     3.18    A      1.631\n",
       "4 2007-10-01  02:00:00   EDT     3.18    A      1.631"
      ]
     },
     "execution_count": 6,
     "metadata": {},
     "output_type": "execute_result"
    }
   ],
   "source": [
    "well_df = xl.parse('Well')\n",
    "\n",
    "well_df.head()"
   ]
  },
  {
   "cell_type": "code",
   "execution_count": 8,
   "metadata": {},
   "outputs": [],
   "source": [
    "well_df = well_df[['date', 'Corrected']]\n",
    "well_df.rename(columns = {'Corrected': 'depth'}, inplace=True)"
   ]
  },
  {
   "cell_type": "code",
   "execution_count": 9,
   "metadata": {},
   "outputs": [],
   "source": [
    "well_mon = well_df.groupby(pd.Grouper(key = 'date', freq='M'))['depth'].mean()"
   ]
  },
  {
   "cell_type": "code",
   "execution_count": 18,
   "metadata": {},
   "outputs": [],
   "source": [
    "well_mon.index = well_mon.index.strftime(\"%Y-%m\")"
   ]
  },
  {
   "cell_type": "code",
   "execution_count": 26,
   "metadata": {},
   "outputs": [],
   "source": [
    "train = well_mon[well_mon.index <= '2017-12']\n",
    "test = well_mon[well_mon.index > '2017-12']"
   ]
  },
  {
   "cell_type": "code",
   "execution_count": 27,
   "metadata": {},
   "outputs": [
    {
     "data": {
      "text/plain": [
       "2007-10    1.398264\n",
       "2007-11    0.823257\n",
       "2007-12    0.118067\n",
       "2008-01    0.162334\n",
       "2008-02    0.154915\n",
       "2008-03    0.190734\n",
       "Name: depth, dtype: float64"
      ]
     },
     "execution_count": 27,
     "metadata": {},
     "output_type": "execute_result"
    }
   ],
   "source": [
    "train.head(n=6)"
   ]
  },
  {
   "cell_type": "code",
   "execution_count": null,
   "metadata": {},
   "outputs": [],
   "source": []
  }
 ],
 "metadata": {
  "kernelspec": {
   "display_name": "Python 3",
   "language": "python",
   "name": "python3"
  },
  "language_info": {
   "codemirror_mode": {
    "name": "ipython",
    "version": 3
   },
   "file_extension": ".py",
   "mimetype": "text/x-python",
   "name": "python",
   "nbconvert_exporter": "python",
   "pygments_lexer": "ipython3",
   "version": "3.5.5"
  }
 },
 "nbformat": 4,
 "nbformat_minor": 2
}
